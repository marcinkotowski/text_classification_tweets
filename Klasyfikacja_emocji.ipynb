{
 "cells": [
  {
   "cell_type": "code",
   "execution_count": 1,
   "id": "783a115c",
   "metadata": {
    "tags": []
   },
   "outputs": [],
   "source": [
    "# !IMPORTANT - to run this notebook download dataset from https://www.kaggle.com/datasets/jp797498e/twitter-entity-sentiment-analysis and put it in same folder as for this notebook\n",
    "# then import wiki-news-300d-1M.vec from https://www.kaggle.com/datasets/facebook/fasttext-wikinews"
   ]
  },
  {
   "cell_type": "code",
   "execution_count": 2,
   "id": "2bea21f9",
   "metadata": {
    "tags": []
   },
   "outputs": [
    {
     "name": "stdout",
     "output_type": "stream",
     "text": [
      "WARNING:tensorflow:From C:\\Users\\lubie\\miniconda3\\Lib\\site-packages\\keras\\src\\losses.py:2976: The name tf.losses.sparse_softmax_cross_entropy is deprecated. Please use tf.compat.v1.losses.sparse_softmax_cross_entropy instead.\n",
      "\n"
     ]
    },
    {
     "name": "stderr",
     "output_type": "stream",
     "text": [
      "[nltk_data] Downloading package stopwords to\n",
      "[nltk_data]     C:\\Users\\lubie\\AppData\\Roaming\\nltk_data...\n",
      "[nltk_data]   Package stopwords is already up-to-date!\n"
     ]
    },
    {
     "data": {
      "text/html": [
       "<div>\n",
       "<style scoped>\n",
       "    .dataframe tbody tr th:only-of-type {\n",
       "        vertical-align: middle;\n",
       "    }\n",
       "\n",
       "    .dataframe tbody tr th {\n",
       "        vertical-align: top;\n",
       "    }\n",
       "\n",
       "    .dataframe thead th {\n",
       "        text-align: right;\n",
       "    }\n",
       "</style>\n",
       "<table border=\"1\" class=\"dataframe\">\n",
       "  <thead>\n",
       "    <tr style=\"text-align: right;\">\n",
       "      <th></th>\n",
       "      <th>reviewer_id</th>\n",
       "      <th>game</th>\n",
       "      <th>emotion</th>\n",
       "      <th>review</th>\n",
       "    </tr>\n",
       "  </thead>\n",
       "  <tbody>\n",
       "    <tr>\n",
       "      <th>0</th>\n",
       "      <td>reviewer_id</td>\n",
       "      <td>game</td>\n",
       "      <td>emotion</td>\n",
       "      <td>review</td>\n",
       "    </tr>\n",
       "    <tr>\n",
       "      <th>1</th>\n",
       "      <td>2401</td>\n",
       "      <td>Borderlands</td>\n",
       "      <td>Positive</td>\n",
       "      <td>im getting on borderlands and i will murder yo...</td>\n",
       "    </tr>\n",
       "    <tr>\n",
       "      <th>2</th>\n",
       "      <td>2401</td>\n",
       "      <td>Borderlands</td>\n",
       "      <td>Positive</td>\n",
       "      <td>I am coming to the borders and I will kill you...</td>\n",
       "    </tr>\n",
       "    <tr>\n",
       "      <th>3</th>\n",
       "      <td>2401</td>\n",
       "      <td>Borderlands</td>\n",
       "      <td>Positive</td>\n",
       "      <td>im getting on borderlands and i will kill you ...</td>\n",
       "    </tr>\n",
       "    <tr>\n",
       "      <th>4</th>\n",
       "      <td>2401</td>\n",
       "      <td>Borderlands</td>\n",
       "      <td>Positive</td>\n",
       "      <td>im coming on borderlands and i will murder you...</td>\n",
       "    </tr>\n",
       "    <tr>\n",
       "      <th>5</th>\n",
       "      <td>2401</td>\n",
       "      <td>Borderlands</td>\n",
       "      <td>Positive</td>\n",
       "      <td>im getting on borderlands 2 and i will murder ...</td>\n",
       "    </tr>\n",
       "    <tr>\n",
       "      <th>6</th>\n",
       "      <td>2401</td>\n",
       "      <td>Borderlands</td>\n",
       "      <td>Positive</td>\n",
       "      <td>im getting into borderlands and i can murder y...</td>\n",
       "    </tr>\n",
       "    <tr>\n",
       "      <th>7</th>\n",
       "      <td>2402</td>\n",
       "      <td>Borderlands</td>\n",
       "      <td>Positive</td>\n",
       "      <td>So I spent a few hours making something for fu...</td>\n",
       "    </tr>\n",
       "    <tr>\n",
       "      <th>8</th>\n",
       "      <td>2402</td>\n",
       "      <td>Borderlands</td>\n",
       "      <td>Positive</td>\n",
       "      <td>So I spent a couple of hours doing something f...</td>\n",
       "    </tr>\n",
       "    <tr>\n",
       "      <th>9</th>\n",
       "      <td>2402</td>\n",
       "      <td>Borderlands</td>\n",
       "      <td>Positive</td>\n",
       "      <td>So I spent a few hours doing something for fun...</td>\n",
       "    </tr>\n",
       "  </tbody>\n",
       "</table>\n",
       "</div>"
      ],
      "text/plain": [
       "   reviewer_id         game   emotion  \\\n",
       "0  reviewer_id         game   emotion   \n",
       "1         2401  Borderlands  Positive   \n",
       "2         2401  Borderlands  Positive   \n",
       "3         2401  Borderlands  Positive   \n",
       "4         2401  Borderlands  Positive   \n",
       "5         2401  Borderlands  Positive   \n",
       "6         2401  Borderlands  Positive   \n",
       "7         2402  Borderlands  Positive   \n",
       "8         2402  Borderlands  Positive   \n",
       "9         2402  Borderlands  Positive   \n",
       "\n",
       "                                              review  \n",
       "0                                             review  \n",
       "1  im getting on borderlands and i will murder yo...  \n",
       "2  I am coming to the borders and I will kill you...  \n",
       "3  im getting on borderlands and i will kill you ...  \n",
       "4  im coming on borderlands and i will murder you...  \n",
       "5  im getting on borderlands 2 and i will murder ...  \n",
       "6  im getting into borderlands and i can murder y...  \n",
       "7  So I spent a few hours making something for fu...  \n",
       "8  So I spent a couple of hours doing something f...  \n",
       "9  So I spent a few hours doing something for fun...  "
      ]
     },
     "execution_count": 2,
     "metadata": {},
     "output_type": "execute_result"
    }
   ],
   "source": [
    "import matplotlib.pyplot as plt\n",
    "import pandas as pd\n",
    "from keras import layers, models, optimizers\n",
    "from sklearn import ensemble\n",
    "from sklearn import svm\n",
    "from sklearn.feature_extraction.text import TfidfVectorizer\n",
    "from sklearn import model_selection, preprocessing, linear_model, naive_bayes, metrics\n",
    "import re\n",
    "import nltk\n",
    "import numpy as np\n",
    "from nltk.corpus import stopwords\n",
    "from keras.preprocessing import text, sequence\n",
    "from keras.utils import pad_sequences\n",
    "from textblob import TextBlob\n",
    "from textblob import Word\n",
    "nltk.download('stopwords')\n",
    "from nltk.corpus import stopwords\n",
    "\n",
    "# Set column name\n",
    "column_names = ['reviewer_id','game','emotion','review']  \n",
    "\n",
    "# Import .csv data into DataFrame\n",
    "tweetsDF = pd.read_csv('twitter_training.csv', names=column_names)\n",
    "\n",
    "tweetsDF.head(10)"
   ]
  },
  {
   "cell_type": "code",
   "execution_count": 3,
   "id": "eb5a42a6",
   "metadata": {
    "tags": []
   },
   "outputs": [
    {
     "data": {
      "text/plain": [
       "74683"
      ]
     },
     "execution_count": 3,
     "metadata": {},
     "output_type": "execute_result"
    }
   ],
   "source": [
    "len(tweetsDF)"
   ]
  },
  {
   "cell_type": "code",
   "execution_count": 1,
   "id": "74599af6-f2c2-47e9-9bb8-54dc6de6b80d",
   "metadata": {},
   "outputs": [
    {
     "data": {
      "text/plain": [
       "'C:\\\\Users\\\\lubie\\\\data'"
      ]
     },
     "execution_count": 1,
     "metadata": {},
     "output_type": "execute_result"
    }
   ],
   "source": [
    "%pwd"
   ]
  },
  {
   "cell_type": "code",
   "execution_count": 4,
   "id": "c87cd927",
   "metadata": {
    "tags": []
   },
   "outputs": [
    {
     "data": {
      "text/plain": [
       "60983"
      ]
     },
     "execution_count": 4,
     "metadata": {},
     "output_type": "execute_result"
    }
   ],
   "source": [
    "# Remove rows with empty or whitespace-only 'review' entries\n",
    "tweetsDF.replace(r'^\\s*$', np.nan, regex=True, inplace=True)\n",
    "tweetsDF.dropna(subset=['review'], thresh=1, inplace=True)\n",
    "\n",
    "# Drop rows where 'emotion' is \"Irrelevant\"\n",
    "tweetsDF = tweetsDF[tweetsDF['emotion'] != 'Irrelevant']\n",
    "\n",
    "tweets = tweetsDF.copy()\n",
    "\n",
    "len(tweets)"
   ]
  },
  {
   "cell_type": "code",
   "execution_count": 5,
   "id": "dc49b725",
   "metadata": {
    "tags": []
   },
   "outputs": [
    {
     "data": {
      "text/html": [
       "<div>\n",
       "<style scoped>\n",
       "    .dataframe tbody tr th:only-of-type {\n",
       "        vertical-align: middle;\n",
       "    }\n",
       "\n",
       "    .dataframe tbody tr th {\n",
       "        vertical-align: top;\n",
       "    }\n",
       "\n",
       "    .dataframe thead th {\n",
       "        text-align: right;\n",
       "    }\n",
       "</style>\n",
       "<table border=\"1\" class=\"dataframe\">\n",
       "  <thead>\n",
       "    <tr style=\"text-align: right;\">\n",
       "      <th></th>\n",
       "      <th>Negative</th>\n",
       "      <th>Neutral</th>\n",
       "      <th>Positive</th>\n",
       "      <th>emotion</th>\n",
       "    </tr>\n",
       "  </thead>\n",
       "  <tbody>\n",
       "    <tr>\n",
       "      <th>0</th>\n",
       "      <td>False</td>\n",
       "      <td>False</td>\n",
       "      <td>False</td>\n",
       "      <td>True</td>\n",
       "    </tr>\n",
       "    <tr>\n",
       "      <th>1</th>\n",
       "      <td>False</td>\n",
       "      <td>False</td>\n",
       "      <td>True</td>\n",
       "      <td>False</td>\n",
       "    </tr>\n",
       "    <tr>\n",
       "      <th>2</th>\n",
       "      <td>False</td>\n",
       "      <td>False</td>\n",
       "      <td>True</td>\n",
       "      <td>False</td>\n",
       "    </tr>\n",
       "    <tr>\n",
       "      <th>3</th>\n",
       "      <td>False</td>\n",
       "      <td>False</td>\n",
       "      <td>True</td>\n",
       "      <td>False</td>\n",
       "    </tr>\n",
       "    <tr>\n",
       "      <th>4</th>\n",
       "      <td>False</td>\n",
       "      <td>False</td>\n",
       "      <td>True</td>\n",
       "      <td>False</td>\n",
       "    </tr>\n",
       "  </tbody>\n",
       "</table>\n",
       "</div>"
      ],
      "text/plain": [
       "   Negative  Neutral  Positive  emotion\n",
       "0     False    False     False     True\n",
       "1     False    False      True    False\n",
       "2     False    False      True    False\n",
       "3     False    False      True    False\n",
       "4     False    False      True    False"
      ]
     },
     "execution_count": 5,
     "metadata": {},
     "output_type": "execute_result"
    }
   ],
   "source": [
    "emotions = pd.get_dummies(tweets['emotion'])\n",
    "emotions.head()"
   ]
  },
  {
   "cell_type": "code",
   "execution_count": 6,
   "id": "e41aa971",
   "metadata": {
    "tags": []
   },
   "outputs": [
    {
     "name": "stdout",
     "output_type": "stream",
     "text": [
      "                                              review  word_count\n",
      "0                                             review           1\n",
      "1  im getting on borderlands and i will murder yo...          11\n",
      "2  I am coming to the borders and I will kill you...          12\n",
      "3  im getting on borderlands and i will kill you ...          10\n",
      "4  im coming on borderlands and i will murder you...          10\n",
      "198\n",
      "1\n",
      "19.356656773199088\n"
     ]
    }
   ],
   "source": [
    "# analyze dataset\n",
    "# check number of words in each review\n",
    "tweets['word_count'] = tweets['review'].apply(lambda x: len(str(x).split(\" \")))\n",
    "print(tweets[['review','word_count']].head())\n",
    "print(tweets['word_count'].max())\n",
    "print(tweets['word_count'].min())\n",
    "print(tweets['word_count'].mean())"
   ]
  },
  {
   "cell_type": "code",
   "execution_count": 7,
   "id": "39f5847b",
   "metadata": {
    "tags": []
   },
   "outputs": [
    {
     "name": "stdout",
     "output_type": "stream",
     "text": [
      "                                              review  char_count\n",
      "0                                             review           6\n",
      "1  im getting on borderlands and i will murder yo...          53\n",
      "2  I am coming to the borders and I will kill you...          51\n",
      "3  im getting on borderlands and i will kill you ...          50\n",
      "4  im coming on borderlands and i will murder you...          51\n",
      "957\n",
      "1\n",
      "108.57460275814572\n"
     ]
    }
   ],
   "source": [
    "# check character number\n",
    "def char_count(df):\n",
    "    df['char_count'] = df['review'].apply(lambda x: len(str(x)))\n",
    "    return df\n",
    "\n",
    "tweets = char_count(tweets)\n",
    "print(tweets[['review', 'char_count']].head())\n",
    "print(tweets['char_count'].max())\n",
    "print(tweets['char_count'].min())\n",
    "print(tweets['char_count'].mean())"
   ]
  },
  {
   "cell_type": "code",
   "execution_count": 8,
   "id": "5f8b1fd4",
   "metadata": {
    "tags": []
   },
   "outputs": [
    {
     "data": {
      "text/html": [
       "<div>\n",
       "<style scoped>\n",
       "    .dataframe tbody tr th:only-of-type {\n",
       "        vertical-align: middle;\n",
       "    }\n",
       "\n",
       "    .dataframe tbody tr th {\n",
       "        vertical-align: top;\n",
       "    }\n",
       "\n",
       "    .dataframe thead th {\n",
       "        text-align: right;\n",
       "    }\n",
       "</style>\n",
       "<table border=\"1\" class=\"dataframe\">\n",
       "  <thead>\n",
       "    <tr style=\"text-align: right;\">\n",
       "      <th></th>\n",
       "      <th>review</th>\n",
       "      <th>avg_word</th>\n",
       "    </tr>\n",
       "  </thead>\n",
       "  <tbody>\n",
       "    <tr>\n",
       "      <th>0</th>\n",
       "      <td>review</td>\n",
       "      <td>6.000000</td>\n",
       "    </tr>\n",
       "    <tr>\n",
       "      <th>1</th>\n",
       "      <td>im getting on borderlands and i will murder yo...</td>\n",
       "      <td>3.909091</td>\n",
       "    </tr>\n",
       "    <tr>\n",
       "      <th>2</th>\n",
       "      <td>I am coming to the borders and I will kill you...</td>\n",
       "      <td>3.333333</td>\n",
       "    </tr>\n",
       "    <tr>\n",
       "      <th>3</th>\n",
       "      <td>im getting on borderlands and i will kill you ...</td>\n",
       "      <td>4.100000</td>\n",
       "    </tr>\n",
       "    <tr>\n",
       "      <th>4</th>\n",
       "      <td>im coming on borderlands and i will murder you...</td>\n",
       "      <td>4.200000</td>\n",
       "    </tr>\n",
       "  </tbody>\n",
       "</table>\n",
       "</div>"
      ],
      "text/plain": [
       "                                              review  avg_word\n",
       "0                                             review  6.000000\n",
       "1  im getting on borderlands and i will murder yo...  3.909091\n",
       "2  I am coming to the borders and I will kill you...  3.333333\n",
       "3  im getting on borderlands and i will kill you ...  4.100000\n",
       "4  im coming on borderlands and i will murder you...  4.200000"
      ]
     },
     "execution_count": 8,
     "metadata": {},
     "output_type": "execute_result"
    }
   ],
   "source": [
    "# check average word length\n",
    "\n",
    "def avg_word(sentence):\n",
    "  words = sentence.split()\n",
    "  return (sum(len(word) for word in words)/len(words))\n",
    "\n",
    "tweets['avg_word'] = tweets['review'].apply(lambda x: avg_word(x))\n",
    "tweets[['review','avg_word']].head()"
   ]
  },
  {
   "cell_type": "code",
   "execution_count": 9,
   "id": "5ae541e5-8770-4d5a-9f9c-b59363bf2d00",
   "metadata": {
    "tags": []
   },
   "outputs": [
    {
     "name": "stdout",
     "output_type": "stream",
     "text": [
      "                                              review  stopwords\n",
      "0                                             review          0\n",
      "1  im getting on borderlands and i will murder yo...          6\n",
      "2  I am coming to the borders and I will kill you...          6\n",
      "3  im getting on borderlands and i will kill you ...          5\n",
      "4  im coming on borderlands and i will murder you...          5\n",
      "40\n",
      "0\n",
      "5.94226259777315\n"
     ]
    }
   ],
   "source": [
    "# check number of stop-words (stop-words are common words not important for analysis)\n",
    "\n",
    "stop = stopwords.words('english')\n",
    "\n",
    "tweets['stopwords'] = tweets['review'].apply(lambda x: len([x for x in x.split() if x in stop]))\n",
    "print(tweets[['review','stopwords']].head())\n",
    "print(tweets['stopwords'].max())\n",
    "print(tweets['stopwords'].min())\n",
    "print(tweets['stopwords'].mean())"
   ]
  },
  {
   "cell_type": "code",
   "execution_count": 10,
   "id": "d53fcbf5",
   "metadata": {
    "tags": []
   },
   "outputs": [
    {
     "name": "stdout",
     "output_type": "stream",
     "text": [
      "                                              review  numerics\n",
      "0                                             review         0\n",
      "1  im getting on borderlands and i will murder yo...         0\n",
      "2  I am coming to the borders and I will kill you...         0\n",
      "3  im getting on borderlands and i will kill you ...         0\n",
      "4  im coming on borderlands and i will murder you...         0\n",
      "14\n",
      "0\n",
      "0.28990046406375547\n"
     ]
    }
   ],
   "source": [
    "# check numeric characters number\n",
    "tweets['numerics'] = tweets['review'].apply(lambda x: len([x for x in x.split(' ') if x.isnumeric()]))\n",
    "print(tweets[['review','numerics']].head())\n",
    "print(tweets['numerics'].max())\n",
    "print(tweets['numerics'].min())\n",
    "print(tweets['numerics'].mean())"
   ]
  },
  {
   "cell_type": "code",
   "execution_count": 11,
   "id": "a996fb4e",
   "metadata": {
    "tags": []
   },
   "outputs": [
    {
     "name": "stdout",
     "output_type": "stream",
     "text": [
      "                                              review  upper\n",
      "0                                             review      0\n",
      "1  im getting on borderlands and i will murder yo...      0\n",
      "2  I am coming to the borders and I will kill you...      2\n",
      "3  im getting on borderlands and i will kill you ...      0\n",
      "4  im coming on borderlands and i will murder you...      0\n",
      "166\n",
      "0\n",
      "1.1650623944377942\n"
     ]
    }
   ],
   "source": [
    "# check number of upper case letters\n",
    "tweets['upper'] = tweets['review'].apply(lambda x: len([word for word in x.split() if word.isupper()]))\n",
    "print(tweets[['review', 'upper']].head())\n",
    "print(tweets['upper'].max())\n",
    "print(tweets['upper'].min())\n",
    "print(tweets['upper'].mean())"
   ]
  },
  {
   "cell_type": "code",
   "execution_count": 12,
   "id": "337218ba-6bb0-4339-a820-e8f88f9efe7f",
   "metadata": {
    "tags": []
   },
   "outputs": [
    {
     "name": "stdout",
     "output_type": "stream",
     "text": [
      "                                              review  capital\n",
      "0                                             review        0\n",
      "1  im getting on borderlands and i will murder yo...        0\n",
      "2  I am coming to the borders and I will kill you...        2\n",
      "3  im getting on borderlands and i will kill you ...        0\n",
      "4  im coming on borderlands and i will murder you...        0\n",
      "166\n",
      "0\n",
      "3.969745666825181\n"
     ]
    }
   ],
   "source": [
    "# check number of capital words\n",
    "tweets['capital'] = tweets['review'].apply(lambda x: len([word for word in x.split(' ') if word and word[0].isupper()]))\n",
    "print(tweets[['review', 'capital']].head())\n",
    "print(tweets['capital'].max())\n",
    "print(tweets['capital'].min())\n",
    "print(tweets['capital'].mean())"
   ]
  },
  {
   "cell_type": "code",
   "execution_count": 13,
   "id": "f5574dc6-48c2-42b9-93a9-cbf69cc7d5f3",
   "metadata": {
    "tags": []
   },
   "outputs": [
    {
     "name": "stdout",
     "output_type": "stream",
     "text": [
      "                                              review  punctuation\n",
      "0                                             review            0\n",
      "1  im getting on borderlands and i will murder yo...            1\n",
      "2  I am coming to the borders and I will kill you...            1\n",
      "3  im getting on borderlands and i will kill you ...            1\n",
      "4  im coming on borderlands and i will murder you...            1\n",
      "304\n",
      "0\n",
      "3.51830838102422\n"
     ]
    }
   ],
   "source": [
    "# check number of punctuation characters\n",
    "tweets['punctuation'] = tweets['review'].apply(lambda x: len(re.findall(r'[\\.,?!;:]', x)))\n",
    "print(tweets[['review', 'punctuation']].head())\n",
    "print(tweets['punctuation'].max())\n",
    "print(tweets['punctuation'].min())\n",
    "print(tweets['punctuation'].mean())"
   ]
  },
  {
   "cell_type": "code",
   "execution_count": 14,
   "id": "04bab0d9",
   "metadata": {
    "tags": []
   },
   "outputs": [
    {
     "data": {
      "text/plain": [
       "0                                               review\n",
       "1    im getting on borderlands and i will murder yo...\n",
       "2    i am coming to the borders and i will kill you...\n",
       "3    im getting on borderlands and i will kill you ...\n",
       "4    im coming on borderlands and i will murder you...\n",
       "Name: review, dtype: object"
      ]
     },
     "execution_count": 14,
     "metadata": {},
     "output_type": "execute_result"
    }
   ],
   "source": [
    "# normalize text\n",
    "# apply lowercase\n",
    "def normalize_text(df):\n",
    "    df['review'] = df['review'].apply(lambda x: \" \".join(x.lower() for x in str(x).split()) if pd.notnull(x) else \"\")\n",
    "    return df\n",
    "\n",
    "tweetsDFRaw = tweetsDF.copy()\n",
    "tweetsDF = normalize_text(tweetsDF)\n",
    "tweetsDF['review'].head()"
   ]
  },
  {
   "cell_type": "code",
   "execution_count": 15,
   "id": "8d7f7f49",
   "metadata": {
    "tags": []
   },
   "outputs": [
    {
     "data": {
      "text/plain": [
       "0                                               review\n",
       "1    im getting on borderlands and i will murder yo...\n",
       "2    i am coming to the borders and i will kill you...\n",
       "3    im getting on borderlands and i will kill you ...\n",
       "4    im coming on borderlands and i will murder you...\n",
       "Name: review, dtype: object"
      ]
     },
     "execution_count": 15,
     "metadata": {},
     "output_type": "execute_result"
    }
   ],
   "source": [
    "# remove special characters\n",
    "tweetsDF['review'] = tweetsDF['review'].str.replace('[^\\w\\s]','')\n",
    "tweetsDF['review'].head()"
   ]
  },
  {
   "cell_type": "code",
   "execution_count": 16,
   "id": "ff3a4a1d-1027-4778-b28e-c0b3fe16db10",
   "metadata": {
    "tags": []
   },
   "outputs": [
    {
     "data": {
      "text/plain": [
       "0                               review\n",
       "1      im getting borderlands murder ,\n",
       "2             coming borders kill all,\n",
       "3     im getting borderlands kill all,\n",
       "4    im coming borderlands murder all,\n",
       "Name: review, dtype: object"
      ]
     },
     "execution_count": 16,
     "metadata": {},
     "output_type": "execute_result"
    }
   ],
   "source": [
    "# remove \"stopwords\"\n",
    "stop = stopwords.words('english')\n",
    "tweetsDF['review'] = tweetsDF['review'].apply(lambda x: \" \".join(x for x in x.split() if x not in stop))\n",
    "tweetsDF['review'].head()"
   ]
  },
  {
   "cell_type": "code",
   "execution_count": 17,
   "id": "ea2f2efa",
   "metadata": {
    "scrolled": true,
    "tags": []
   },
   "outputs": [
    {
     "data": {
      "text/plain": [
       "/          12113\n",
       "@           9397\n",
       ".           7824\n",
       "game        5645\n",
       "-           3989\n",
       "like        3672\n",
       "get         3408\n",
       "&           2799\n",
       "new         2750\n",
       "play        2745\n",
       "2           2657\n",
       "really      2643\n",
       "one         2633\n",
       "johnson     2623\n",
       "i'm         2578\n",
       "good        2424\n",
       "love        2374\n",
       "still       2116\n",
       "_           2035\n",
       "’           1999\n",
       "Name: count, dtype: int64"
      ]
     },
     "execution_count": 17,
     "metadata": {},
     "output_type": "execute_result"
    }
   ],
   "source": [
    "# prepare list of most frequent words\n",
    "freq = pd.Series(' '.join(tweetsDF['review']).split()).value_counts()[:20]\n",
    "freq"
   ]
  },
  {
   "cell_type": "code",
   "execution_count": 18,
   "id": "723ca803",
   "metadata": {
    "tags": []
   },
   "outputs": [
    {
     "data": {
      "text/plain": [
       "0                               review\n",
       "1      im getting borderlands murder ,\n",
       "2             coming borders kill all,\n",
       "3     im getting borderlands kill all,\n",
       "4    im coming borderlands murder all,\n",
       "Name: review, dtype: object"
      ]
     },
     "execution_count": 18,
     "metadata": {},
     "output_type": "execute_result"
    }
   ],
   "source": [
    "# remove most frequent words\n",
    "freq = list(freq.index)\n",
    "tweetsDF['review'] = tweetsDF['review'].apply(lambda x: \" \".join(x for x in x.split() if x not in freq))\n",
    "tweetsDF['review'].head()"
   ]
  },
  {
   "cell_type": "code",
   "execution_count": 19,
   "id": "cf474dc0",
   "metadata": {
    "tags": []
   },
   "outputs": [
    {
     "data": {
      "text/plain": [
       "hearthstone-de...               1\n",
       "theg.com                        1\n",
       "qjyss1pn4n                      1\n",
       "hearthstone-en...               1\n",
       "thegamer.com                    1\n",
       "thegamer.com/hearthstone-de…    1\n",
       "shindanmaker.                   1\n",
       "winrate..                       1\n",
       "dgonsssssss                     1\n",
       "theme)                          1\n",
       "bass!                           1\n",
       "vargott.                        1\n",
       "rebuild)                        1\n",
       "profile<unk>                    1\n",
       "flexible                        1\n",
       "one-offs                        1\n",
       "winrate...                      1\n",
       "(wild).                         1\n",
       "best..                          1\n",
       "experiments.                    1\n",
       "Name: count, dtype: int64"
      ]
     },
     "execution_count": 19,
     "metadata": {},
     "output_type": "execute_result"
    }
   ],
   "source": [
    "# prepare list of rare words\n",
    "freq = pd.Series(' '.join(tweetsDF['review']).split()).value_counts()[-20:]\n",
    "freq"
   ]
  },
  {
   "cell_type": "code",
   "execution_count": 20,
   "id": "fdeae2c6",
   "metadata": {
    "tags": []
   },
   "outputs": [
    {
     "data": {
      "text/plain": [
       "0                               review\n",
       "1      im getting borderlands murder ,\n",
       "2             coming borders kill all,\n",
       "3     im getting borderlands kill all,\n",
       "4    im coming borderlands murder all,\n",
       "Name: review, dtype: object"
      ]
     },
     "execution_count": 20,
     "metadata": {},
     "output_type": "execute_result"
    }
   ],
   "source": [
    "# remove rare words\n",
    "freq = list(freq.index)\n",
    "tweetsDF['review'] = tweetsDF['review'].apply(lambda x: \" \".join(x for x in x.split() if x not in freq))\n",
    "tweetsDF['review'].head()"
   ]
  },
  {
   "cell_type": "code",
   "execution_count": 21,
   "id": "64fd3944",
   "metadata": {
    "tags": []
   },
   "outputs": [
    {
     "data": {
      "text/plain": [
       "0                               review\n",
       "1      in getting borderlands murder ,\n",
       "2             coming borders kill all,\n",
       "3     in getting borderlands kill all,\n",
       "4    in coming borderlands murder all,\n",
       "Name: review, dtype: object"
      ]
     },
     "execution_count": 21,
     "metadata": {},
     "output_type": "execute_result"
    }
   ],
   "source": [
    "# fix typos\n",
    "from textblob import TextBlob\n",
    "tweetsDF['review'][:5].apply(lambda x: str(TextBlob(x).correct()))"
   ]
  },
  {
   "cell_type": "code",
   "execution_count": 22,
   "id": "d72f2aed",
   "metadata": {
    "tags": []
   },
   "outputs": [
    {
     "name": "stderr",
     "output_type": "stream",
     "text": [
      "[nltk_data] Downloading package wordnet to\n",
      "[nltk_data]     C:\\Users\\lubie\\AppData\\Roaming\\nltk_data...\n",
      "[nltk_data]   Package wordnet is already up-to-date!\n"
     ]
    },
    {
     "data": {
      "text/plain": [
       "0                              review\n",
       "1      im getting borderland murder ,\n",
       "2             coming border kill all,\n",
       "3     im getting borderland kill all,\n",
       "4    im coming borderland murder all,\n",
       "Name: review, dtype: object"
      ]
     },
     "execution_count": 22,
     "metadata": {},
     "output_type": "execute_result"
    }
   ],
   "source": [
    "#lemmatize - unify words with same language core\n",
    "from textblob import Word\n",
    "nltk.download('wordnet')\n",
    "\n",
    "tweetsDF = tweetsDF.copy()\n",
    "tweetsDF['review'] = tweetsDF['review'].apply(lambda x: \" \".join([Word(word).lemmatize() for word in x.split()]))\n",
    "tweetsDF['review'].head()"
   ]
  },
  {
   "cell_type": "code",
   "execution_count": 23,
   "id": "b111acf8",
   "metadata": {
    "tags": []
   },
   "outputs": [
    {
     "name": "stdout",
     "output_type": "stream",
     "text": [
      "[0 1 1 ... 2 2 1]\n"
     ]
    }
   ],
   "source": [
    "# prepare model\n",
    "# split data to train and test set\n",
    "train_x, valid_x, train_y, valid_y = model_selection.train_test_split(tweetsDF['review'], tweetsDF['emotion'])\n",
    "\n",
    "# encode categorical values\n",
    "encoder = preprocessing.LabelEncoder()\n",
    "train_y = encoder.fit_transform(train_y)\n",
    "valid_y = encoder.fit_transform(valid_y)\n",
    "\n",
    "print(valid_y)"
   ]
  },
  {
   "cell_type": "code",
   "execution_count": 24,
   "id": "404240ba",
   "metadata": {
    "tags": []
   },
   "outputs": [],
   "source": [
    "# encode text to TF-IDF numeric vectors\n",
    "\n",
    "from sklearn.feature_extraction.text import TfidfVectorizer\n",
    "\n",
    "tfidf_vect = TfidfVectorizer(analyzer='word', token_pattern=r'\\w{1,}', max_features=5000)\n",
    "tfidf_vect.fit(tweetsDF['review'])\n",
    "xtrain_tfidf =  tfidf_vect.transform(train_x)\n",
    "xvalid_tfidf =  tfidf_vect.transform(valid_x)"
   ]
  },
  {
   "cell_type": "code",
   "execution_count": 25,
   "id": "02b8c157",
   "metadata": {
    "tags": []
   },
   "outputs": [],
   "source": [
    "# universal method for model training\n",
    "\n",
    "def train_model(classifier, feature_vector_train, label, feature_vector_valid, is_neural_net=False):\n",
    "    # train model\n",
    "    classifier.fit(feature_vector_train,  train_y)\n",
    "    \n",
    "    # generate predictions for test set\n",
    "    predictions = classifier.predict(feature_vector_valid)\n",
    "    \n",
    "    if is_neural_net:\n",
    "        predictions = predictions.argmax(axis=-1)\n",
    "    \n",
    "    # evaluate model\n",
    "    scores = list(metrics.precision_recall_fscore_support(predictions, valid_y))\n",
    "    score_vals = [\n",
    "        scores[0][0],\n",
    "        scores[1][0],\n",
    "        scores[2][0]\n",
    "    ]\n",
    "    score_vals.append(metrics.accuracy_score(predictions, valid_y))\n",
    "    return score_vals"
   ]
  },
  {
   "cell_type": "code",
   "execution_count": 26,
   "id": "76f54cc5",
   "metadata": {
    "tags": []
   },
   "outputs": [
    {
     "name": "stdout",
     "output_type": "stream",
     "text": [
      "LR, WordLevel TF-IDF:  [0.8118668596237337, 0.7627464309993202, 0.786540483701367, 0.7445887445887446]\n"
     ]
    },
    {
     "name": "stderr",
     "output_type": "stream",
     "text": [
      "C:\\Users\\lubie\\miniconda3\\Lib\\site-packages\\sklearn\\metrics\\_classification.py:1471: UndefinedMetricWarning: Recall and F-score are ill-defined and being set to 0.0 in labels with no true samples. Use `zero_division` parameter to control this behavior.\n",
      "  _warn_prf(average, modifier, msg_start, len(result))\n"
     ]
    }
   ],
   "source": [
    "# MODEL 1 - Logistic Regression (One-vs-Rest)\n",
    "model_lr = linear_model.LogisticRegression(multi_class='ovr', max_iter=1000)\n",
    "accuracy = train_model(model_lr, xtrain_tfidf, train_y, xvalid_tfidf)\n",
    "accuracy_compare = {'LR': accuracy}\n",
    "print(\"LR, WordLevel TF-IDF: \", accuracy)"
   ]
  },
  {
   "cell_type": "code",
   "execution_count": 27,
   "id": "18613bf0",
   "metadata": {
    "tags": []
   },
   "outputs": [
    {
     "name": "stdout",
     "output_type": "stream",
     "text": [
      "SVM, N-Gram Vectors:  [0.9214905933429812, 0.9280378939697577, 0.9247526549877463, 0.9132887314705497]\n"
     ]
    },
    {
     "name": "stderr",
     "output_type": "stream",
     "text": [
      "C:\\Users\\lubie\\miniconda3\\Lib\\site-packages\\sklearn\\metrics\\_classification.py:1471: UndefinedMetricWarning: Recall and F-score are ill-defined and being set to 0.0 in labels with no true samples. Use `zero_division` parameter to control this behavior.\n",
      "  _warn_prf(average, modifier, msg_start, len(result))\n"
     ]
    }
   ],
   "source": [
    "# MODEL 2 - Support Vector Machine\n",
    "\n",
    "accuracy = train_model(svm.SVC(), xtrain_tfidf, train_y, xvalid_tfidf)\n",
    "accuracy_compare['SVM'] = accuracy\n",
    "print (\"SVM, N-Gram Vectors: \", accuracy)"
   ]
  },
  {
   "cell_type": "code",
   "execution_count": 28,
   "id": "5af40c67",
   "metadata": {},
   "outputs": [
    {
     "name": "stdout",
     "output_type": "stream",
     "text": [
      "RF, WordLevel TF-IDF:  [0.9122648335745297, 0.9180775532495904, 0.9151619635241811, 0.9046963137872229]\n"
     ]
    },
    {
     "name": "stderr",
     "output_type": "stream",
     "text": [
      "C:\\Users\\lubie\\miniconda3\\Lib\\site-packages\\sklearn\\metrics\\_classification.py:1471: UndefinedMetricWarning: Recall and F-score are ill-defined and being set to 0.0 in labels with no true samples. Use `zero_division` parameter to control this behavior.\n",
      "  _warn_prf(average, modifier, msg_start, len(result))\n"
     ]
    }
   ],
   "source": [
    "# MODEL 3 - Random Forest Tree \n",
    "accuracy = train_model(ensemble.RandomForestClassifier(), xtrain_tfidf, train_y, xvalid_tfidf)\n",
    "accuracy_compare['RF'] = accuracy\n",
    "print (\"RF, WordLevel TF-IDF: \", accuracy)"
   ]
  },
  {
   "cell_type": "code",
   "execution_count": 29,
   "id": "59cca11b",
   "metadata": {
    "tags": []
   },
   "outputs": [],
   "source": [
    "# coding words as vectors with encoded meaning - word embeddings\n",
    "\n",
    "from keras.preprocessing import text, sequence\n",
    "from keras.utils import pad_sequences\n",
    "\n",
    "embeddings_index = {}\n",
    "with open('wiki-news-300d-1M.vec', encoding='utf-8') as file:\n",
    "    for i, line in enumerate(file):\n",
    "        try:\n",
    "            values = line.split()\n",
    "            embeddings_index[values[0]] = np.asarray(values[1:], dtype='float32')\n",
    "        except UnicodeDecodeError:\n",
    "            print(f\"UnicodeDecodeError in line {i + 1}: {line}\")\n",
    "            # Handle the error or skip problematic lines\n",
    "\n",
    "\n",
    "# create a tokenizer \n",
    "token = text.Tokenizer()\n",
    "token.fit_on_texts(tweetsDF['review'])\n",
    "word_index = token.word_index\n",
    "\n",
    "# convert text to sequence of tokens and pad them to ensure equal length vectors \n",
    "train_seq_x = pad_sequences(token.texts_to_sequences(train_x), maxlen=70)\n",
    "valid_seq_x = pad_sequences(token.texts_to_sequences(valid_x), maxlen=70)\n",
    "\n",
    "# create token-embedding mapping\n",
    "embedding_matrix = np.zeros((len(word_index) + 1, 300))\n",
    "for word, i in word_index.items():\n",
    "    embedding_vector = embeddings_index.get(word)\n",
    "    if embedding_vector is not None:\n",
    "        embedding_matrix[i] = embedding_vector"
   ]
  },
  {
   "cell_type": "code",
   "execution_count": 30,
   "id": "526d568a",
   "metadata": {
    "tags": []
   },
   "outputs": [
    {
     "name": "stdout",
     "output_type": "stream",
     "text": [
      "WARNING:tensorflow:From C:\\Users\\lubie\\miniconda3\\Lib\\site-packages\\keras\\src\\backend.py:1398: The name tf.executing_eagerly_outside_functions is deprecated. Please use tf.compat.v1.executing_eagerly_outside_functions instead.\n",
      "\n",
      "WARNING:tensorflow:From C:\\Users\\lubie\\miniconda3\\Lib\\site-packages\\keras\\src\\utils\\tf_utils.py:492: The name tf.ragged.RaggedTensorValue is deprecated. Please use tf.compat.v1.ragged.RaggedTensorValue instead.\n",
      "\n",
      "1430/1430 [==============================] - 14s 9ms/step - loss: -1732.7074\n",
      "477/477 [==============================] - 2s 4ms/step\n",
      "CNN, Word Embeddings [1.0, 0.3625869080414535, 0.5322037161836912, 0.3625869080414535]\n"
     ]
    },
    {
     "name": "stderr",
     "output_type": "stream",
     "text": [
      "C:\\Users\\lubie\\miniconda3\\Lib\\site-packages\\sklearn\\metrics\\_classification.py:1471: UndefinedMetricWarning: Recall and F-score are ill-defined and being set to 0.0 in labels with no true samples. Use `zero_division` parameter to control this behavior.\n",
      "  _warn_prf(average, modifier, msg_start, len(result))\n"
     ]
    }
   ],
   "source": [
    "# MODEL 4 - convolutional neural network with word embeddings\n",
    "\n",
    "def create_cnn():\n",
    "    # add input layer\n",
    "    input_layer = layers.Input((70, ))\n",
    "\n",
    "    # add encoding layer\n",
    "    embedding_layer = layers.Embedding(len(word_index) + 1, 300, weights=[embedding_matrix], trainable=False)(input_layer)\n",
    "    embedding_layer = layers.SpatialDropout1D(0.3)(embedding_layer)\n",
    "\n",
    "    # add convolutional layer\n",
    "    conv_layer = layers.Convolution1D(100, 3, activation=\"relu\")(embedding_layer)\n",
    "\n",
    "    # add connection layer\n",
    "    pooling_layer = layers.GlobalMaxPool1D()(conv_layer)\n",
    "\n",
    "    # add aoutput layers\n",
    "    output_layer1 = layers.Dense(50, activation=\"relu\")(pooling_layer)\n",
    "    output_layer1 = layers.Dropout(0.25)(output_layer1)\n",
    "    output_layer2 = layers.Dense(1, activation=\"sigmoid\")(output_layer1)\n",
    "\n",
    "    # compile model\n",
    "    model = models.Model(inputs=input_layer, outputs=output_layer2)\n",
    "    model.compile(optimizer=optimizers.Adam(), loss='binary_crossentropy')\n",
    "    \n",
    "    return model\n",
    "\n",
    "classifier = create_cnn()\n",
    "accuracy = train_model(classifier, train_seq_x, train_y, valid_seq_x, is_neural_net=True)\n",
    "accuracy_compare['CNN'] = accuracy\n",
    "print (\"CNN, Word Embeddings\",  accuracy)"
   ]
  },
  {
   "cell_type": "code",
   "execution_count": 31,
   "id": "dea27c37-615e-4a13-b101-539e1582fe2c",
   "metadata": {
    "tags": []
   },
   "outputs": [
    {
     "data": {
      "text/plain": [
       "<Axes: >"
      ]
     },
     "execution_count": 31,
     "metadata": {},
     "output_type": "execute_result"
    },
    {
     "data": {
      "image/png": "[encoded data removed]",
      "text/plain": [
       "<Figure size 640x480 with 1 Axes>"
      ]
     },
     "metadata": {},
     "output_type": "display_data"
    }
   ],
   "source": [
    "# evaluate models\n",
    "# compare models\n",
    "\n",
    "df_compare = pd.DataFrame(accuracy_compare, index = ['precision', 'recall', 'f1 score', 'accuracy'])\n",
    "df_compare.plot(kind='bar')"
   ]
  },
  {
   "cell_type": "code",
   "execution_count": 32,
   "id": "1ccbc203-02c8-4173-a8c4-1261da9eea1c",
   "metadata": {
    "tags": []
   },
   "outputs": [
    {
     "data": {
      "text/plain": [
       "<Axes: >"
      ]
     },
     "execution_count": 32,
     "metadata": {},
     "output_type": "execute_result"
    },
    {
     "data": {
      "image/png": "[encoded data removed]",
      "text/plain": [
       "<Figure size 640x480 with 1 Axes>"
      ]
     },
     "metadata": {},
     "output_type": "display_data"
    }
   ],
   "source": [
    "# without text normalization\n",
    "\n",
    "# split to train and test set\n",
    "train_x, valid_x, train_y, valid_y = model_selection.train_test_split(tweetsDFRaw['review'], tweetsDFRaw['emotion'])\n",
    "\n",
    "# Handle NaN values\n",
    "train_x = train_x.fillna('')\n",
    "valid_x = valid_x.fillna('')\n",
    "\n",
    "# encode to numeric vectors\n",
    "encoder = preprocessing.LabelEncoder()\n",
    "train_y = encoder.fit_transform(train_y)\n",
    "valid_y = encoder.fit_transform(valid_y)\n",
    "\n",
    "# encode as TF-IDF\n",
    "\n",
    "tfidf_vect = TfidfVectorizer(analyzer='word', token_pattern=r'\\w{1,}', max_features=5000)\n",
    "tfidf_vect.fit(tweetsDF['review'])\n",
    "xtrain_tfidf =  tfidf_vect.transform(train_x)\n",
    "xvalid_tfidf =  tfidf_vect.transform(valid_x)\n",
    "\n",
    "# MODEL 1 - logistic regression\n",
    "accuracy_compare['LRRaw'] = accuracy\n",
    "accuracy = train_model(linear_model.LogisticRegression(max_iter=10000), xtrain_tfidf, train_y, xvalid_tfidf)\n",
    "\n",
    "df_compare = pd.DataFrame(accuracy_compare, index = ['precision', 'recall', 'f1 score', 'accuracy'])\n",
    "df_compare.plot(kind='bar')"
   ]
  },
  {
   "cell_type": "code",
   "execution_count": 33,
   "id": "41c5730b-e702-4702-a1e0-1019fe748fe8",
   "metadata": {
    "tags": []
   },
   "outputs": [
    {
     "name": "stderr",
     "output_type": "stream",
     "text": [
      "..\n",
      "----------------------------------------------------------------------\n",
      "Ran 2 tests in 0.004s\n",
      "\n",
      "OK\n"
     ]
    },
    {
     "data": {
      "text/plain": [
       "<unittest.runner.TextTestResult run=2 errors=0 failures=0>"
      ]
     },
     "execution_count": 33,
     "metadata": {},
     "output_type": "execute_result"
    }
   ],
   "source": [
    "import unittest\n",
    "class TestCharacterCount(unittest.TestCase):\n",
    "    \n",
    "    def setUp(self):\n",
    "        # Przygotowanie danych do testów\n",
    "        self.input_data = pd.DataFrame({'review': ['test', 'teeeeeest']})\n",
    "        self.expected_output = pd.DataFrame({'review': ['test', 'teeeeeest'], 'char_count': [4, 9]})\n",
    "    \n",
    "    def test_char_count_text(self):\n",
    "        # Wywołanie funkcji na przygotowanych danych\n",
    "        result = char_count(self.input_data.copy())\n",
    "        \n",
    "        # Sprawdzenie czy wynik jest zgodny z oczekiwaniami\n",
    "        pd.testing.assert_frame_equal(result, self.expected_output)\n",
    "\n",
    "\n",
    "class TestNormalizeText(unittest.TestCase):\n",
    "    \n",
    "    def setUp(self):\n",
    "        # Przygotowanie danych do testów\n",
    "        self.input_data = pd.DataFrame({'review': ['Hello World', '  UPPer CaSE ']})\n",
    "        self.expected_output = pd.DataFrame({'review': ['hello world', 'upper case']})\n",
    "    \n",
    "    def test_normalize_text(self):\n",
    "        # Wywołanie funkcji na przygotowanych danych\n",
    "        result = normalize_text(self.input_data.copy())\n",
    "        \n",
    "        # Sprawdzenie czy wynik jest zgodny z oczekiwaniami\n",
    "        pd.testing.assert_frame_equal(result, self.expected_output)\n",
    "\n",
    "all_tests = unittest.TestSuite()\n",
    "all_tests.addTest(unittest.TestLoader().loadTestsFromTestCase(TestNormalizeText))\n",
    "all_tests.addTest(unittest.TestLoader().loadTestsFromTestCase(TestCharacterCount))\n",
    "\n",
    "unittest.TextTestRunner().run(all_tests)"
   ]
  }
 ],
 "metadata": {
  "kernelspec": {
   "display_name": "Python 3 (ipykernel)",
   "language": "python",
   "name": "python3"
  },
  "language_info": {
   "codemirror_mode": {
    "name": "ipython",
    "version": 3
   },
   "file_extension": ".py",
   "mimetype": "text/x-python",
   "name": "python",
   "nbconvert_exporter": "python",
   "pygments_lexer": "ipython3",
   "version": "3.11.5"
  }
 },
 "nbformat": 4,
 "nbformat_minor": 5
}
